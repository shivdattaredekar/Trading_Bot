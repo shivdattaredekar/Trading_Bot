{
 "cells": [
  {
   "cell_type": "code",
   "execution_count": null,
   "id": "a9268b7e",
   "metadata": {},
   "outputs": [
    {
     "data": {
      "text/plain": [
       "False"
      ]
     },
     "execution_count": 14,
     "metadata": {},
     "output_type": "execute_result"
    }
   ],
   "source": [
    "from datetime import datetime\n",
    "import csv\n",
    "import os\n",
    "TRADE_LOG_FILE = \"trade_log.csv\"\n",
    "\n",
    "\n",
    "def check_trades(symbol, file_path=TRADE_LOG_FILE):\n",
    "    if not os.path.exists(file_path):\n",
    "        return []\n",
    "\n",
    "    # Read trades for the given symbol from the CSV file\n",
    "    trades = []\n",
    "    with open(file_path, mode=\"r\") as file:\n",
    "        reader = csv.DictReader(file)\n",
    "        today = datetime.now().strftime(\"%Y-%m-%d\")\n",
    "        for row in reader:\n",
    "            # Check for trade date \n",
    "            trade_date = datetime.strptime(row['timestamp'],'%Y-%m-%d %H:%M:%S').strftime(\"%Y-%m-%d\")\n",
    "\n",
    "            # Check for the symbol and if it is traded today and the status is successful\n",
    "            if row[\"symbol\"] == symbol and trade_date == today and row['status'] == 'success':\n",
    "                trades.append(row)\n",
    "    return trades\n",
    "\n",
    "\n",
    "# If trades for any symbol are equal to two or if its recently traded like 10 mins ago then don't trade again on that symbol \n",
    "\n",
    "from datetime import datetime\n",
    "import csv\n",
    "\n",
    "def can_trade(symbol, file_path=TRADE_LOG_FILE):\n",
    "    trades = check_trades(symbol, file_path)\n",
    "\n",
    "    # Rule 1: Block if already 2 or more trades\n",
    "    if len(trades) >= 2:\n",
    "        return False\n",
    "\n",
    "    # Rule 2: Find the most recent trade for this symbol\n",
    "    latest_trade_time = None\n",
    "    with open(file_path, mode=\"r\") as file:\n",
    "        reader = csv.DictReader(file)\n",
    "        for row in reader:\n",
    "            if row[\"symbol\"] == symbol and row[\"status\"] == \"success\":\n",
    "                # Parse timestamp with flexible format\n",
    "                try:\n",
    "                    timestamp = datetime.strptime(row['timestamp'], '%d-%m-%Y %H:%M')\n",
    "                except ValueError:\n",
    "                    timestamp = datetime.strptime(row['timestamp'], '%Y-%m-%d %H:%M:%S')\n",
    "\n",
    "                if latest_trade_time is None or timestamp > latest_trade_time:\n",
    "                    latest_trade_time = timestamp\n",
    "\n",
    "    # Rule 3: If a trade exists and it's within 10 minutes, block\n",
    "    if latest_trade_time and (datetime.now() - latest_trade_time).total_seconds() < 600:\n",
    "        return False\n",
    "\n",
    "    # Otherwise, allow trade\n",
    "    return True\n",
    "\n",
    "\n",
    "\n",
    "can_trade(symbol='NSE:RITES-EQ', file_path=TRADE_LOG_FILE)\n"
   ]
  },
  {
   "cell_type": "code",
   "execution_count": null,
   "id": "fb9857b0",
   "metadata": {},
   "outputs": [
    {
     "ename": "NameError",
     "evalue": "name 'TRADE_LOG_FILE' is not defined",
     "output_type": "error",
     "traceback": [
      "\u001b[31m---------------------------------------------------------------------------\u001b[39m",
      "\u001b[31mNameError\u001b[39m                                 Traceback (most recent call last)",
      "\u001b[36mCell\u001b[39m\u001b[36m \u001b[39m\u001b[32mIn[2]\u001b[39m\u001b[32m, line 3\u001b[39m\n\u001b[32m      1\u001b[39m no_of_stocks = \u001b[32m3\u001b[39m\n\u001b[32m----> \u001b[39m\u001b[32m3\u001b[39m \u001b[38;5;28;01mdef\u001b[39;00m\u001b[38;5;250m \u001b[39m\u001b[34mcan_trade\u001b[39m(symbol, file_path=\u001b[43mTRADE_LOG_FILE\u001b[49m, stock_count=no_of_stocks):\n\u001b[32m      5\u001b[39m     trades = check_trades(symbol, file_path)\n\u001b[32m      7\u001b[39m     \u001b[38;5;28;01mif\u001b[39;00m stock_count <\u001b[32m3\u001b[39m:\n",
      "\u001b[31mNameError\u001b[39m: name 'TRADE_LOG_FILE' is not defined"
     ]
    }
   ],
   "source": [
    "no_of_stocks = 3\n",
    "\n",
    "def can_trade(symbol, file_path=TRADE_LOG_FILE, stock_count=no_of_stocks):\n",
    "\n",
    "    trades = check_trades(symbol, file_path)\n",
    "\n",
    "    if stock_count <3:\n",
    "        if len(trades) >= 3:\n",
    "            return False\n",
    "\n",
    "    # Rule 1: Block if already 2 or more trades\n",
    "    if stock_count>=3:\n",
    "        if len(trades) >= 2:\n",
    "            return False\n",
    "\n",
    "    # Rule 2: Find the most recent trade for this symbol\n",
    "    latest_trade_time = None\n",
    "    with open(file_path, mode=\"r\") as file:\n",
    "        reader = csv.DictReader(file)\n",
    "        for row in reader:\n",
    "            if row[\"symbol\"] == symbol and row[\"status\"] == \"success\":\n",
    "                # Parse timestamp with flexible format\n",
    "                try:\n",
    "                    timestamp = datetime.strptime(row['timestamp'], '%d-%m-%Y %H:%M')\n",
    "                except ValueError:\n",
    "                    timestamp = datetime.strptime(row['timestamp'], '%Y-%m-%d %H:%M:%S')\n",
    "\n",
    "                if latest_trade_time is None or timestamp > latest_trade_time:\n",
    "                    latest_trade_time = timestamp\n",
    "\n",
    "    # Rule 3: If a trade exists and it's within 10 minutes, block\n",
    "    if latest_trade_time and (datetime.now() - latest_trade_time).total_seconds() < 600:\n",
    "        return False\n",
    "\n",
    "    # Otherwise, allow trade\n",
    "    return True\n"
   ]
  },
  {
   "cell_type": "code",
   "execution_count": 5,
   "id": "cb4590e6",
   "metadata": {},
   "outputs": [
    {
     "name": "stdout",
     "output_type": "stream",
     "text": [
      "JIO\n",
      "('JIO', 28)\n",
      "HUL\n",
      "('HUL', 28)\n",
      "RELIANCE\n",
      "('RELIANCE', 28)\n",
      "ZOMATO\n",
      "('ZOMATO', 28)\n"
     ]
    }
   ],
   "source": [
    "filtered_stocks = {'RELIANCE',\"JIO\",\"ZOMATO\",\"HUL\"}\n",
    "\n",
    "for i in filtered_stocks:\n",
    "    print(i)\n",
    "    a = 4\n",
    "    b = 6\n",
    "\n",
    "    def add_stocks(a,b,count = len(filtered_stocks)):\n",
    "        return i, a * b + count\n",
    "    \n",
    "    print(add_stocks(a, b))\n",
    "\n"
   ]
  },
  {
   "cell_type": "code",
   "execution_count": null,
   "id": "510d73be",
   "metadata": {},
   "outputs": [],
   "source": []
  },
  {
   "cell_type": "code",
   "execution_count": 64,
   "id": "1eff1012",
   "metadata": {},
   "outputs": [
    {
     "name": "stderr",
     "output_type": "stream",
     "text": [
      "2025-10-12 17:29:35,739 [INFO] Starting trading script...\n",
      "2025-10-12 17:29:35,741 [INFO] Authenticating with Fyers to use its API...\n",
      "2025-10-12 17:29:39,085 [INFO] Access token is not valid.\n",
      "2025-10-12 17:29:41,026 [INFO] verify_client_id success\n",
      "2025-10-12 17:29:41,030 [INFO] generate_totp success\n",
      "2025-10-12 17:29:41,635 [INFO] verify_totp_result success\n",
      "2025-10-12 17:29:42,937 [INFO] verify_pin_result success\n",
      "2025-10-12 17:29:43,554 [INFO] token_result success\n",
      "2025-10-12 17:29:44,148 [INFO] validate_authcode success\n",
      "2025-10-12 17:29:44,157 [INFO] Authentication successful\n",
      "2025-10-12 17:29:44,185 [INFO] Authentication is already done as access token is valid.\n",
      "2025-10-12 17:29:44,185 [INFO] Sleeping for 3 sec to make sure ACCESS_TOKEN is properly fetched and picked up for WebSocket\n",
      "2025-10-12 17:29:44,185 [INFO] Auth failed: type object 'datetime.time' has no attribute 'sleep'\n",
      "2025-10-12 17:29:44,185 [INFO] Creating FyersModel instance with access token...\n",
      "2025-10-12 17:29:44,185 [INFO] Authenticated Fyers instance created.\n"
     ]
    },
    {
     "data": {
      "text/plain": [
       "{'s': 'error',\n",
       " 'code': -8,\n",
       " 'message': 'Your token has expired. Please generate a token'}"
      ]
     },
     "execution_count": 64,
     "metadata": {},
     "output_type": "execute_result"
    }
   ],
   "source": [
    "from src.tradingsetup.login.authentication import auto_login\n",
    "from dotenv import load_dotenv\n",
    "from src.tradingsetup.login.auth import get_fyers_instance, is_access_token_valid\n",
    "from src.tradingsetup.utlis.logger import log\n",
    "\n",
    "log(\"Starting trading script...\")\n",
    "\n",
    "\n",
    "# Step 1: Authentication\n",
    "log(\"Authenticating with Fyers to use its API...\")\n",
    "try:\n",
    "    if not is_access_token_valid():\n",
    "        auto_login()\n",
    "        load_dotenv(override=True)\n",
    "    log(\"Authentication is already done as access token is valid.\")\n",
    "    log(\"Sleeping for 3 sec to make sure ACCESS_TOKEN is properly fetched and picked up for WebSocket\")\n",
    "    time.sleep(3)\n",
    "except Exception as e:\n",
    "    log(f\"Auth failed: {e}\")\n",
    "    exit(1)\n",
    "\n",
    "# This uses the valid access_token from .env \n",
    "fyers = get_fyers_instance()\n",
    "fyers.get_profile()\n"
   ]
  },
  {
   "cell_type": "code",
   "execution_count": 120,
   "id": "17a2081d",
   "metadata": {},
   "outputs": [
    {
     "name": "stdout",
     "output_type": "stream",
     "text": [
      "Customer Profile: \n",
      " {'fy_id': 'XR04750', 'name': 'REDEKAR SHIVDATTA SURESH', 'image': None, 'display_name': None, 'pin_change_date': '06-01-2022 09:51:24', 'email_id': 'sxxxxxxxxxxxxxxr@gmail.com', 'pwd_change_date': '06-01-2022 09:50:31', 'PAN': 'BMxxxxxx1N', 'mobile_number': '98xxxxxx43', 'totp': True, 'pwd_to_expire': -1226, 'ddpi_enabled': True, 'mtf_enabled': False}\n",
      "\n",
      "\n",
      "Customer Account information: \n",
      " [{'id': 1, 'title': 'Total Balance', 'equityAmount': 35017.119999999995, 'commodityAmount': 0}, {'id': 2, 'title': 'Utilized Amount', 'equityAmount': 219.98956594652032, 'commodityAmount': 0}, {'id': 3, 'title': 'Clear Balance', 'equityAmount': 34999.28043405348, 'commodityAmount': 0}, {'id': 4, 'title': 'Realized Profit and Loss', 'equityAmount': -202.1500000000003, 'commodityAmount': 0}, {'id': 5, 'title': 'Collaterals', 'equityAmount': 0, 'commodityAmount': 0}, {'id': 6, 'title': 'Fund Transfer', 'equityAmount': 0, 'commodityAmount': 0}, {'id': 7, 'title': 'Receivables', 'equityAmount': 0, 'commodityAmount': 0}, {'id': 8, 'title': 'Adhoc Limit', 'equityAmount': 0, 'commodityAmount': 0}, {'id': 9, 'title': 'Limit at start of the day', 'equityAmount': 35219.27, 'commodityAmount': 0}, {'id': 10, 'title': 'Available Balance', 'equityAmount': 34999.28043405348, 'commodityAmount': 0}]\n",
      "\n",
      "\n",
      "Customer Investment details: \n",
      " {'count_total': 0, 'pnl_perc': 0, 'total_current_value': 0, 'total_investment': 0, 'total_pl': 0}\n",
      "\n",
      "\n",
      "Fetching and filtering stocks...\n"
     ]
    }
   ],
   "source": [
    "from fyers_apiv3 import fyersModel\n",
    "\n",
    "access_token='eyJhbGciOiJIUzI1NiIsInR5cCI6IkpXVCJ9.eyJhdWQiOlsiZDoxIiwiZDoyIiwieDowIiwieDoxIiwieDoyIl0sImF0X2hhc2giOiJnQUFBQUFCbzdHT3Frb19Sc203QXVRMldQeUdfUXl0Q0pQWHVtd2lTTWltWFpFc1VHM0hJa01JSzJscGQtN2FZS2hMVDZONnNjWklLakgwSVAtQTF0cFNvR0tCN1ljYzlrWmYwNjBWaVp4dXRaelRDTEJFUGlwZz0iLCJkaXNwbGF5X25hbWUiOiIiLCJvbXMiOiJLMSIsImhzbV9rZXkiOiI0NmQwNTgwMjdjZjc4NDhjMDRiYWE5YzY4ZmM4MjZiN2Q4ZGU1MmY4MzRjZTA5MDNmZGUxY2Y3MyIsImlzRGRwaUVuYWJsZWQiOiJZIiwiaXNNdGZFbmFibGVkIjoiTiIsImZ5X2lkIjoiWFIwNDc1MCIsImFwcFR5cGUiOjEwMCwiZXhwIjoxNzYwNDAxODAwLCJpYXQiOjE3NjAzMjI0NzQsImlzcyI6ImFwaS5meWVycy5pbiIsIm5iZiI6MTc2MDMyMjQ3NCwic3ViIjoiYWNjZXNzX3Rva2VuIn0.I66vV574tjnRy2deg3Td_rJGoyhDInX6k-ZI94VXy9k'\n",
    "\n",
    "fyers = fyersModel.FyersModel(token=access_token,is_async=False,client_id=client_id,log_path=\"\")\n",
    "\n",
    "\n",
    "\n",
    "## After this point you can call the relevant apis and get started with\n",
    "\n",
    "####################################################################################################################\n",
    "\"\"\"\n",
    "1. User Apis : This includes (Profile,Funds,Holdings)\n",
    "\"\"\"\n",
    "\n",
    "print(f'Customer Profile: \\n {fyers.get_profile()['data']}')  ## This will provide us with the user related data \n",
    "print('\\n')\n",
    "print(f'Customer Account information: \\n {fyers.funds()['fund_limit']}')        ## This will provide us with the funds the user has \n",
    "print('\\n')\n",
    "print(f'Customer Investment details: \\n {fyers.holdings()['overall']}')    ## This will provide the available holdings the user has \n",
    "print('\\n')\n",
    "print(\"Fetching and filtering stocks...\")\n",
    "\n",
    "\n"
   ]
  },
  {
   "cell_type": "code",
   "execution_count": 121,
   "id": "e50cc647",
   "metadata": {},
   "outputs": [
    {
     "data": {
      "text/plain": [
       "{'s': 'ok',\n",
       " 'code': 200,\n",
       " 'message': '',\n",
       " 'data': {'fy_id': 'XR04750',\n",
       "  'name': 'REDEKAR SHIVDATTA SURESH',\n",
       "  'image': None,\n",
       "  'display_name': None,\n",
       "  'pin_change_date': '06-01-2022 09:51:24',\n",
       "  'email_id': 'sxxxxxxxxxxxxxxr@gmail.com',\n",
       "  'pwd_change_date': '06-01-2022 09:50:31',\n",
       "  'PAN': 'BMxxxxxx1N',\n",
       "  'mobile_number': '98xxxxxx43',\n",
       "  'totp': True,\n",
       "  'pwd_to_expire': -1226,\n",
       "  'ddpi_enabled': True,\n",
       "  'mtf_enabled': False}}"
      ]
     },
     "execution_count": 121,
     "metadata": {},
     "output_type": "execute_result"
    }
   ],
   "source": [
    "fyers.get_profile()"
   ]
  },
  {
   "cell_type": "code",
   "execution_count": null,
   "id": "ebdb60f4",
   "metadata": {},
   "outputs": [],
   "source": []
  },
  {
   "cell_type": "code",
   "execution_count": null,
   "id": "a96a2bd9",
   "metadata": {},
   "outputs": [],
   "source": []
  },
  {
   "cell_type": "code",
   "execution_count": null,
   "id": "379a00f5",
   "metadata": {},
   "outputs": [],
   "source": [
    "# for one stock statergy\n",
    "\n",
    "from datetime import datetime, time\n",
    "\n",
    "\n",
    "class SingleStockStrategy:\n",
    "    def __init__(self, symbol, RR, fyers):\n",
    "        self.symbol = symbol \n",
    "        self.RR = RR\n",
    "        self.candles = self._get_candles(symbol)\n",
    "        self.fyers = fyers\n",
    "\n",
    "    def _get_candles(self, symbol):\n",
    "        log(f\"Fetching candles for {symbol}...\")\n",
    "        \n",
    "        data = fyers.history({\n",
    "                    \"symbol\": symbol,\n",
    "                    \"resolution\": \"5\",\n",
    "                    \"date_format\": \"1\",\n",
    "                    \"range_from\": datetime.now().date(),\n",
    "                    \"range_to\": datetime.now().date(),\n",
    "                    \"cont_flag\": \"1\"\n",
    "                })\n",
    "        candle = data.get(\"candles\", [])\n",
    "            \n",
    "        # Optional: Convert timestamp to readable format for inspection\n",
    "        candles = []\n",
    "\n",
    "        for c in candle:\n",
    "            dt = datetime.fromtimestamp(c[0])\n",
    "            if dt.time() > time(9, 55):\n",
    "                candles.append({\n",
    "                    \"daytime\": datetime.fromtimestamp(c[0]).strftime('%Y-%m-%d %H:%M'),\n",
    "                    \"day_time\": dt.strftime(\"%H:%M\"),\n",
    "                    \"open\": c[1],\n",
    "                    \"high\": c[2],\n",
    "                    \"low\": c[3],\n",
    "                    \"close\": c[4],\n",
    "                    \"volume\": c[5]\n",
    "                })\n",
    "\n",
    "        return candles\n",
    "\n",
    "    def _get_trigger_candle(self):\n",
    "            \n",
    "        for candle in self.candles:\n",
    "            if candle[\"day_time\"] == \"10:00\":\n",
    "                return candle\n",
    "        return None\n",
    "\n",
    "    def evaluate_trade_signal(self):\n",
    "        trigger_candle = self._get_trigger_candle()\n",
    "        \n",
    "        if not trigger_candle:\n",
    "            log(\"No 10.00 AM trigger candle found.\")\n",
    "            return False\n",
    "        \n",
    "        trigger_high = trigger_candle[\"high\"]\n",
    "        trigger_low = trigger_candle[\"low\"]\n",
    "        trigger_range = trigger_high - trigger_low\n",
    "\n",
    "        try:\n",
    "            for candle in self.candles: \n",
    "                if candle[\"day_time\"] < \"10:00\":\n",
    "                    continue\n",
    "\n",
    "                # Buy conditions\n",
    "                if candle[\"high\"]> trigger_high:\n",
    "                    log(\"Trade signal evaluated as Buy.\")\n",
    "                    signal = {\n",
    "                        \"timestamp\": candle[\"daytime\"],\n",
    "                        \"action\": \"BUY\",\n",
    "                        \"entry_price\": trigger_high,\n",
    "                        \"stop_loss\": trigger_low,\n",
    "                        \"target\":  round(trigger_high + self.RR * trigger_range, 0)\n",
    "                    }\n",
    "                    log(f\"Buy Triggered for {self.symbol} SETUP at {candle['daytime']}\")\n",
    "                    return signal\n",
    "                \n",
    "                # Sell conditions\n",
    "                if candle[\"low\"] < trigger_low:\n",
    "                    log(\"Trade signal evaluated as Sell.\")\n",
    "                    signal = {\n",
    "                        \"timestamp\": candle[\"daytime\"],\n",
    "                        \"action\": \"SELL\",\n",
    "                        \"entry_price\": trigger_low,\n",
    "                        \"stop_loss\": trigger_high,\n",
    "                        \"target\": round(trigger_low - self.RR * trigger_range, 0)\n",
    "                    }\n",
    "                    log(f\"Sell Triggered for {self.symbol} SETUP at {candle['daytime']}\")\n",
    "                    return signal\n",
    "                \n",
    "        except Exception as e:\n",
    "            log(f\"Trade signal evaluated as invalid due to :{e}\")\n",
    "            return False\n",
    "\n",
    "\n"
   ]
  },
  {
   "cell_type": "code",
   "execution_count": 138,
   "id": "b0b28dfe",
   "metadata": {},
   "outputs": [
    {
     "name": "stderr",
     "output_type": "stream",
     "text": [
      "2025-10-13 20:56:57,410 [INFO] Fetching candles for NSE:TATAMOTORS-EQ...\n",
      "2025-10-13 20:56:58,391 [INFO] Trade signal evaluated as Buy.\n",
      "2025-10-13 20:56:58,393 [INFO] Buy Triggered for NSE:TATAMOTORS-EQ SETUP at 2025-10-13 10:05\n"
     ]
    },
    {
     "data": {
      "text/plain": [
       "{'timestamp': '2025-10-13 10:05',\n",
       " 'action': 'BUY',\n",
       " 'entry_price': 671,\n",
       " 'stop_loss': 669.25,\n",
       " 'target': 676.0}"
      ]
     },
     "execution_count": 138,
     "metadata": {},
     "output_type": "execute_result"
    }
   ],
   "source": [
    "symbol = \"NSE:TATAMOTORS-EQ\"\n",
    "\n",
    "signal = SingleStockStrategy(symbol, 3, fyers).evaluate_trade_signal()\n",
    "signal"
   ]
  },
  {
   "cell_type": "code",
   "execution_count": 139,
   "id": "84350e95",
   "metadata": {},
   "outputs": [
    {
     "name": "stderr",
     "output_type": "stream",
     "text": [
      "2025-10-13 20:56:59,526 [INFO] Trade for NSE:TATAMOTORS-EQ at 2025-10-13 10:05 is outside the trading window. as current time is 20:56:59.526426 hence Skipping.\n"
     ]
    }
   ],
   "source": [
    "from src.tradingsetup.trade_logic.ema_strategy import place_trade\n",
    "\n",
    "place_trade(fyers, symbol, signal[\"entry_price\"], signal[\"stop_loss\"], signal[\"target\"], signal[\"timestamp\"])"
   ]
  },
  {
   "cell_type": "code",
   "execution_count": 123,
   "id": "172bc5d9",
   "metadata": {},
   "outputs": [
    {
     "name": "stderr",
     "output_type": "stream",
     "text": [
      "2025-10-13 20:32:13,806 [INFO] Trade signal evaluated as Buy.\n",
      "2025-10-13 20:32:13,808 [INFO] Buy Triggered for NSE:TATAMOTORS-EQ SETUP at 10:05\n"
     ]
    },
    {
     "data": {
      "text/plain": [
       "{'timestamp': '10:05',\n",
       " 'action': 'BUY',\n",
       " 'entry_price': 671,\n",
       " 'stop_loss': 669.25,\n",
       " 'target': 676.0}"
      ]
     },
     "execution_count": 123,
     "metadata": {},
     "output_type": "execute_result"
    }
   ],
   "source": [
    "evaluate_trade_signal(candles,3)"
   ]
  },
  {
   "cell_type": "code",
   "execution_count": 116,
   "id": "255863e5",
   "metadata": {},
   "outputs": [
    {
     "data": {
      "text/plain": [
       "[]"
      ]
     },
     "execution_count": 116,
     "metadata": {},
     "output_type": "execute_result"
    }
   ],
   "source": [
    "candles"
   ]
  },
  {
   "cell_type": "code",
   "execution_count": null,
   "id": "bd15419d",
   "metadata": {},
   "outputs": [],
   "source": []
  },
  {
   "cell_type": "code",
   "execution_count": 12,
   "id": "da272ca1",
   "metadata": {},
   "outputs": [
    {
     "name": "stderr",
     "output_type": "stream",
     "text": [
      "2025-10-01 19:56:34,531 [INFO] Response: {'type': 'sub', 'code': 200, 'message': 'Subscribed', 's': 'ok'}\n",
      "2025-10-01 19:56:34,536 [INFO] Response: {'type': 'ful', 'code': 200, 'message': 'Full Mode On', 's': 'ok'}\n",
      "2025-10-01 19:56:34,539 [INFO] Response: {'type': 'cn', 'code': 200, 'message': 'Authentication done', 's': 'ok'}\n"
     ]
    }
   ],
   "source": [
    "from tradingsetup.utlis.logger import log\n",
    "\n",
    "message= {'ltp': 1094.5, 'vol_traded_today': 12189, 'last_traded_time': 1759204111, 'exch_feed_time': 1759204111, 'bid_size': 23, 'ask_size': 45, 'bid_price': 1094.5, 'ask_price': 1095.2, 'last_traded_qty': 14, 'tot_buy_qty': 81094, 'tot_sell_qty': 69679, 'avg_trade_price': 1092.33, 'low_price': 1088.0, 'high_price': 1095.4, 'lower_ckt': 0, 'upper_ckt': 0, 'open_price': 1088.0, 'prev_close_price': 1089.5, 'type': 'sf', 'symbol': 'NSE:AUROPHARMA-EQ', 'ch': 5.0, 'chp': 0.4589}\n",
    "message1= {'type': 'sub', 'code': 200, 'message': 'Subscribed', 's': 'ok'}\n",
    "message2= {'type': 'ful', 'code': 200, 'message': 'Full Mode On', 's': 'ok'}\n",
    "message3= {'type': 'cn', 'code': 200, 'message': 'Authentication done', 's': 'ok'}\n",
    "\n",
    "messages = [message,message1,message2,message3]\n",
    "\n",
    "\n",
    "\n",
    "def msg_logger(message):        \n",
    "    if list(message.keys())[0]=='ltp':\n",
    "        pass\n",
    "    else:\n",
    "        log(f\"Response: {message}\")\n",
    "\n",
    "for msg in messages:       \n",
    "    msg_logger(msg)"
   ]
  },
  {
   "cell_type": "code",
   "execution_count": 11,
   "id": "51fbd502",
   "metadata": {},
   "outputs": [
    {
     "data": {
      "text/plain": [
       "True"
      ]
     },
     "execution_count": 11,
     "metadata": {},
     "output_type": "execute_result"
    }
   ],
   "source": [
    "\n",
    "list(message.keys())[0]=='ltp'"
   ]
  },
  {
   "cell_type": "code",
   "execution_count": null,
   "id": "32cb68c6",
   "metadata": {},
   "outputs": [
    {
     "data": {
      "text/plain": [
       "{'symbol': 'symbol',\n",
       " 'resolution': 'D',\n",
       " 'date_format': '0',\n",
       " 'range_from': '1754059492',\n",
       " 'range_to': '1759243492',\n",
       " 'cont_flag': '1'}"
      ]
     },
     "execution_count": 15,
     "metadata": {},
     "output_type": "execute_result"
    }
   ],
   "source": [
    "from datetime import datetime, timedelta, time\n",
    "\n",
    "days = 60\n",
    "end_time = datetime.now() - timedelta(days=1)\n",
    "\n",
    "payload = {\n",
    "        \"symbol\": \"symbol\",\n",
    "        \"resolution\": \"D\",\n",
    "        \"date_format\": \"0\",\n",
    "        \"range_from\": str(int((datetime.now() - timedelta(days=days+1)).timestamp())),\n",
    "        \"range_to\": str(int(end_time.timestamp())),\n",
    "        \"cont_flag\": \"1\"\n",
    "    }\n",
    "\n",
    "payload"
   ]
  },
  {
   "cell_type": "code",
   "execution_count": null,
   "id": "1ec8c92f",
   "metadata": {},
   "outputs": [],
   "source": []
  },
  {
   "cell_type": "code",
   "execution_count": null,
   "id": "f2c87ae0",
   "metadata": {},
   "outputs": [],
   "source": []
  },
  {
   "cell_type": "code",
   "execution_count": null,
   "id": "19d019ee",
   "metadata": {},
   "outputs": [],
   "source": []
  },
  {
   "cell_type": "code",
   "execution_count": null,
   "id": "22de962e",
   "metadata": {},
   "outputs": [],
   "source": []
  },
  {
   "cell_type": "code",
   "execution_count": null,
   "id": "be99235d",
   "metadata": {},
   "outputs": [],
   "source": []
  },
  {
   "cell_type": "code",
   "execution_count": null,
   "id": "0352c5f7",
   "metadata": {},
   "outputs": [],
   "source": []
  },
  {
   "cell_type": "code",
   "execution_count": null,
   "id": "2ecab90d",
   "metadata": {},
   "outputs": [],
   "source": []
  },
  {
   "cell_type": "code",
   "execution_count": null,
   "id": "0e3a2153",
   "metadata": {},
   "outputs": [],
   "source": []
  },
  {
   "cell_type": "code",
   "execution_count": null,
   "id": "3253ca86",
   "metadata": {},
   "outputs": [],
   "source": []
  },
  {
   "cell_type": "code",
   "execution_count": null,
   "id": "da23fc3e",
   "metadata": {},
   "outputs": [],
   "source": []
  },
  {
   "cell_type": "code",
   "execution_count": null,
   "id": "c6c0ee87",
   "metadata": {},
   "outputs": [],
   "source": []
  },
  {
   "cell_type": "code",
   "execution_count": null,
   "id": "ef079f5e",
   "metadata": {},
   "outputs": [],
   "source": []
  },
  {
   "cell_type": "code",
   "execution_count": null,
   "id": "de70518f",
   "metadata": {},
   "outputs": [],
   "source": []
  },
  {
   "cell_type": "code",
   "execution_count": null,
   "id": "ab9f3920",
   "metadata": {},
   "outputs": [],
   "source": []
  },
  {
   "cell_type": "code",
   "execution_count": null,
   "id": "8b90d1fe",
   "metadata": {},
   "outputs": [],
   "source": []
  },
  {
   "cell_type": "code",
   "execution_count": null,
   "id": "2ba75be0",
   "metadata": {},
   "outputs": [],
   "source": []
  },
  {
   "cell_type": "code",
   "execution_count": null,
   "id": "b04e2ea4",
   "metadata": {},
   "outputs": [],
   "source": []
  },
  {
   "cell_type": "code",
   "execution_count": null,
   "id": "1008ffb8",
   "metadata": {},
   "outputs": [],
   "source": []
  },
  {
   "cell_type": "code",
   "execution_count": null,
   "id": "45574fc2",
   "metadata": {},
   "outputs": [],
   "source": []
  }
 ],
 "metadata": {
  "kernelspec": {
   "display_name": "Python 3",
   "language": "python",
   "name": "python3"
  },
  "language_info": {
   "codemirror_mode": {
    "name": "ipython",
    "version": 3
   },
   "file_extension": ".py",
   "mimetype": "text/x-python",
   "name": "python",
   "nbconvert_exporter": "python",
   "pygments_lexer": "ipython3",
   "version": "3.12.0"
  }
 },
 "nbformat": 4,
 "nbformat_minor": 5
}
