{
 "cells": [
  {
   "cell_type": "code",
   "execution_count": null,
   "id": "a9268b7e",
   "metadata": {},
   "outputs": [
    {
     "data": {
      "text/plain": [
       "False"
      ]
     },
     "execution_count": 14,
     "metadata": {},
     "output_type": "execute_result"
    }
   ],
   "source": [
    "from datetime import datetime\n",
    "import csv\n",
    "import os\n",
    "TRADE_LOG_FILE = \"trade_log.csv\"\n",
    "\n",
    "\n",
    "def check_trades(symbol, file_path=TRADE_LOG_FILE):\n",
    "    if not os.path.exists(file_path):\n",
    "        return []\n",
    "\n",
    "    # Read trades for the given symbol from the CSV file\n",
    "    trades = []\n",
    "    with open(file_path, mode=\"r\") as file:\n",
    "        reader = csv.DictReader(file)\n",
    "        today = datetime.now().strftime(\"%Y-%m-%d\")\n",
    "        for row in reader:\n",
    "            # Check for trade date \n",
    "            trade_date = datetime.strptime(row['timestamp'],'%Y-%m-%d %H:%M:%S').strftime(\"%Y-%m-%d\")\n",
    "\n",
    "            # Check for the symbol and if it is traded today and the status is successful\n",
    "            if row[\"symbol\"] == symbol and trade_date == today and row['status'] == 'success':\n",
    "                trades.append(row)\n",
    "    return trades\n",
    "\n",
    "\n",
    "# If trades for any symbol are equal to two or if its recently traded like 10 mins ago then don't trade again on that symbol \n",
    "\n",
    "from datetime import datetime\n",
    "import csv\n",
    "\n",
    "def can_trade(symbol, file_path=TRADE_LOG_FILE):\n",
    "    trades = check_trades(symbol, file_path)\n",
    "\n",
    "    # Rule 1: Block if already 2 or more trades\n",
    "    if len(trades) >= 2:\n",
    "        return False\n",
    "\n",
    "    # Rule 2: Find the most recent trade for this symbol\n",
    "    latest_trade_time = None\n",
    "    with open(file_path, mode=\"r\") as file:\n",
    "        reader = csv.DictReader(file)\n",
    "        for row in reader:\n",
    "            if row[\"symbol\"] == symbol and row[\"status\"] == \"success\":\n",
    "                # Parse timestamp with flexible format\n",
    "                try:\n",
    "                    timestamp = datetime.strptime(row['timestamp'], '%d-%m-%Y %H:%M')\n",
    "                except ValueError:\n",
    "                    timestamp = datetime.strptime(row['timestamp'], '%Y-%m-%d %H:%M:%S')\n",
    "\n",
    "                if latest_trade_time is None or timestamp > latest_trade_time:\n",
    "                    latest_trade_time = timestamp\n",
    "\n",
    "    # Rule 3: If a trade exists and it's within 10 minutes, block\n",
    "    if latest_trade_time and (datetime.now() - latest_trade_time).total_seconds() < 600:\n",
    "        return False\n",
    "\n",
    "    # Otherwise, allow trade\n",
    "    return True\n",
    "\n",
    "\n",
    "\n",
    "can_trade(symbol='NSE:RITES-EQ', file_path=TRADE_LOG_FILE)\n"
   ]
  },
  {
   "cell_type": "code",
   "execution_count": null,
   "id": "fb9857b0",
   "metadata": {},
   "outputs": [
    {
     "ename": "NameError",
     "evalue": "name 'TRADE_LOG_FILE' is not defined",
     "output_type": "error",
     "traceback": [
      "\u001b[31m---------------------------------------------------------------------------\u001b[39m",
      "\u001b[31mNameError\u001b[39m                                 Traceback (most recent call last)",
      "\u001b[36mCell\u001b[39m\u001b[36m \u001b[39m\u001b[32mIn[2]\u001b[39m\u001b[32m, line 3\u001b[39m\n\u001b[32m      1\u001b[39m no_of_stocks = \u001b[32m3\u001b[39m\n\u001b[32m----> \u001b[39m\u001b[32m3\u001b[39m \u001b[38;5;28;01mdef\u001b[39;00m\u001b[38;5;250m \u001b[39m\u001b[34mcan_trade\u001b[39m(symbol, file_path=\u001b[43mTRADE_LOG_FILE\u001b[49m, stock_count=no_of_stocks):\n\u001b[32m      5\u001b[39m     trades = check_trades(symbol, file_path)\n\u001b[32m      7\u001b[39m     \u001b[38;5;28;01mif\u001b[39;00m stock_count <\u001b[32m3\u001b[39m:\n",
      "\u001b[31mNameError\u001b[39m: name 'TRADE_LOG_FILE' is not defined"
     ]
    }
   ],
   "source": [
    "no_of_stocks = 3\n",
    "\n",
    "def can_trade(symbol, file_path=TRADE_LOG_FILE, stock_count=no_of_stocks):\n",
    "\n",
    "    trades = check_trades(symbol, file_path)\n",
    "\n",
    "    if stock_count <3:\n",
    "        if len(trades) >= 3:\n",
    "            return False\n",
    "\n",
    "    # Rule 1: Block if already 2 or more trades\n",
    "    if stock_count>=3:\n",
    "        if len(trades) >= 2:\n",
    "            return False\n",
    "\n",
    "    # Rule 2: Find the most recent trade for this symbol\n",
    "    latest_trade_time = None\n",
    "    with open(file_path, mode=\"r\") as file:\n",
    "        reader = csv.DictReader(file)\n",
    "        for row in reader:\n",
    "            if row[\"symbol\"] == symbol and row[\"status\"] == \"success\":\n",
    "                # Parse timestamp with flexible format\n",
    "                try:\n",
    "                    timestamp = datetime.strptime(row['timestamp'], '%d-%m-%Y %H:%M')\n",
    "                except ValueError:\n",
    "                    timestamp = datetime.strptime(row['timestamp'], '%Y-%m-%d %H:%M:%S')\n",
    "\n",
    "                if latest_trade_time is None or timestamp > latest_trade_time:\n",
    "                    latest_trade_time = timestamp\n",
    "\n",
    "    # Rule 3: If a trade exists and it's within 10 minutes, block\n",
    "    if latest_trade_time and (datetime.now() - latest_trade_time).total_seconds() < 600:\n",
    "        return False\n",
    "\n",
    "    # Otherwise, allow trade\n",
    "    return True\n"
   ]
  },
  {
   "cell_type": "code",
   "execution_count": 5,
   "id": "cb4590e6",
   "metadata": {},
   "outputs": [
    {
     "name": "stdout",
     "output_type": "stream",
     "text": [
      "JIO\n",
      "('JIO', 28)\n",
      "HUL\n",
      "('HUL', 28)\n",
      "RELIANCE\n",
      "('RELIANCE', 28)\n",
      "ZOMATO\n",
      "('ZOMATO', 28)\n"
     ]
    }
   ],
   "source": [
    "filtered_stocks = {'RELIANCE',\"JIO\",\"ZOMATO\",\"HUL\"}\n",
    "\n",
    "for i in filtered_stocks:\n",
    "    print(i)\n",
    "    a = 4\n",
    "    b = 6\n",
    "\n",
    "    def add_stocks(a,b,count = len(filtered_stocks)):\n",
    "        return i, a * b + count\n",
    "    \n",
    "    print(add_stocks(a, b))\n",
    "\n"
   ]
  },
  {
   "cell_type": "code",
   "execution_count": null,
   "id": "510d73be",
   "metadata": {},
   "outputs": [],
   "source": []
  },
  {
   "cell_type": "code",
   "execution_count": 2,
   "id": "1eff1012",
   "metadata": {},
   "outputs": [
    {
     "name": "stderr",
     "output_type": "stream",
     "text": [
      "2025-09-28 12:38:55,846 [INFO] Creating FyersModel instance with access token...\n",
      "2025-09-28 12:38:55,855 [INFO] Authenticated Fyers instance created.\n"
     ]
    }
   ],
   "source": [
    "from src.tradingsetup.login.auth import get_fyers_instance\n",
    "\n",
    "fyers = get_fyers_instance()\n",
    "\n"
   ]
  },
  {
   "cell_type": "code",
   "execution_count": 3,
   "id": "e50cc647",
   "metadata": {},
   "outputs": [
    {
     "ename": "TypeError",
     "evalue": "FyersModel.generate_data_token() missing 1 required positional argument: 'data'",
     "output_type": "error",
     "traceback": [
      "\u001b[31m---------------------------------------------------------------------------\u001b[39m",
      "\u001b[31mTypeError\u001b[39m                                 Traceback (most recent call last)",
      "\u001b[36mCell\u001b[39m\u001b[36m \u001b[39m\u001b[32mIn[3]\u001b[39m\u001b[32m, line 1\u001b[39m\n\u001b[32m----> \u001b[39m\u001b[32m1\u001b[39m \u001b[43mfyers\u001b[49m\u001b[43m.\u001b[49m\u001b[43mgenerate_data_token\u001b[49m\u001b[43m(\u001b[49m\u001b[43m)\u001b[49m\n",
      "\u001b[31mTypeError\u001b[39m: FyersModel.generate_data_token() missing 1 required positional argument: 'data'"
     ]
    }
   ],
   "source": [
    "fyers.generate_data_token()"
   ]
  },
  {
   "cell_type": "code",
   "execution_count": null,
   "id": "da272ca1",
   "metadata": {},
   "outputs": [],
   "source": []
  },
  {
   "cell_type": "code",
   "execution_count": null,
   "id": "51fbd502",
   "metadata": {},
   "outputs": [],
   "source": []
  },
  {
   "cell_type": "code",
   "execution_count": null,
   "id": "32cb68c6",
   "metadata": {},
   "outputs": [],
   "source": []
  },
  {
   "cell_type": "code",
   "execution_count": null,
   "id": "1ec8c92f",
   "metadata": {},
   "outputs": [],
   "source": []
  },
  {
   "cell_type": "code",
   "execution_count": null,
   "id": "f2c87ae0",
   "metadata": {},
   "outputs": [],
   "source": []
  },
  {
   "cell_type": "code",
   "execution_count": null,
   "id": "19d019ee",
   "metadata": {},
   "outputs": [],
   "source": []
  },
  {
   "cell_type": "code",
   "execution_count": null,
   "id": "22de962e",
   "metadata": {},
   "outputs": [],
   "source": []
  },
  {
   "cell_type": "code",
   "execution_count": null,
   "id": "be99235d",
   "metadata": {},
   "outputs": [],
   "source": []
  },
  {
   "cell_type": "code",
   "execution_count": null,
   "id": "0352c5f7",
   "metadata": {},
   "outputs": [],
   "source": []
  },
  {
   "cell_type": "code",
   "execution_count": null,
   "id": "2ecab90d",
   "metadata": {},
   "outputs": [],
   "source": []
  },
  {
   "cell_type": "code",
   "execution_count": null,
   "id": "0e3a2153",
   "metadata": {},
   "outputs": [],
   "source": []
  },
  {
   "cell_type": "code",
   "execution_count": null,
   "id": "3253ca86",
   "metadata": {},
   "outputs": [],
   "source": []
  },
  {
   "cell_type": "code",
   "execution_count": null,
   "id": "da23fc3e",
   "metadata": {},
   "outputs": [],
   "source": []
  },
  {
   "cell_type": "code",
   "execution_count": null,
   "id": "c6c0ee87",
   "metadata": {},
   "outputs": [],
   "source": []
  },
  {
   "cell_type": "code",
   "execution_count": null,
   "id": "ef079f5e",
   "metadata": {},
   "outputs": [],
   "source": []
  },
  {
   "cell_type": "code",
   "execution_count": null,
   "id": "de70518f",
   "metadata": {},
   "outputs": [],
   "source": []
  },
  {
   "cell_type": "code",
   "execution_count": null,
   "id": "ab9f3920",
   "metadata": {},
   "outputs": [],
   "source": []
  },
  {
   "cell_type": "code",
   "execution_count": null,
   "id": "8b90d1fe",
   "metadata": {},
   "outputs": [],
   "source": []
  },
  {
   "cell_type": "code",
   "execution_count": null,
   "id": "2ba75be0",
   "metadata": {},
   "outputs": [],
   "source": []
  },
  {
   "cell_type": "code",
   "execution_count": null,
   "id": "b04e2ea4",
   "metadata": {},
   "outputs": [],
   "source": []
  },
  {
   "cell_type": "code",
   "execution_count": null,
   "id": "1008ffb8",
   "metadata": {},
   "outputs": [],
   "source": []
  },
  {
   "cell_type": "code",
   "execution_count": null,
   "id": "45574fc2",
   "metadata": {},
   "outputs": [],
   "source": []
  }
 ],
 "metadata": {
  "kernelspec": {
   "display_name": "Python 3",
   "language": "python",
   "name": "python3"
  },
  "language_info": {
   "codemirror_mode": {
    "name": "ipython",
    "version": 3
   },
   "file_extension": ".py",
   "mimetype": "text/x-python",
   "name": "python",
   "nbconvert_exporter": "python",
   "pygments_lexer": "ipython3",
   "version": "3.12.0"
  }
 },
 "nbformat": 4,
 "nbformat_minor": 5
}
